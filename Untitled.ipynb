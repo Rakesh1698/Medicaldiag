{
 "cells": [
  {
   "cell_type": "code",
   "execution_count": 4,
   "id": "1b5893f8",
   "metadata": {},
   "outputs": [],
   "source": [
    "! conda activate demo777"
   ]
  },
  {
   "cell_type": "code",
   "execution_count": null,
   "id": "cd12e412",
   "metadata": {},
   "outputs": [],
   "source": [
    "!pip install"
   ]
  }
 ],
 "metadata": {
  "kernelspec": {
   "display_name": "Python 3 (ipykernel)",
   "language": "python",
   "name": "python3"
  },
  "language_info": {
   "codemirror_mode": {
    "name": "ipython",
    "version": 3
   },
   "file_extension": ".py",
   "mimetype": "text/x-python",
   "name": "python",
   "nbconvert_exporter": "python",
   "pygments_lexer": "ipython3",
   "version": "3.9.13"
  }
 },
 "nbformat": 4,
 "nbformat_minor": 5
}
